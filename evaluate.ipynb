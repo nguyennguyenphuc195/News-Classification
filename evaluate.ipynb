{
  "nbformat": 4,
  "nbformat_minor": 0,
  "metadata": {
    "colab": {
      "name": "evaluate.ipynb",
      "provenance": [],
      "collapsed_sections": []
    },
    "kernelspec": {
      "name": "python3",
      "display_name": "Python 3"
    }
  },
  "cells": [
    {
      "cell_type": "code",
      "metadata": {
        "id": "g4Bm1npwBVHV",
        "colab": {
          "base_uri": "https://localhost:8080/"
        },
        "outputId": "4c56d82b-7b1d-4c7d-f3ad-46c90d309672"
      },
      "source": [
        "!git clone https://github.com/nguyennguyenphuc195/News-Classification.git"
      ],
      "execution_count": 1,
      "outputs": [
        {
          "output_type": "stream",
          "text": [
            "Cloning into 'News-Classification'...\n",
            "remote: Enumerating objects: 48, done.\u001b[K\n",
            "remote: Counting objects: 100% (48/48), done.\u001b[K\n",
            "remote: Compressing objects: 100% (35/35), done.\u001b[K\n",
            "remote: Total 48 (delta 15), reused 37 (delta 10), pack-reused 0\u001b[K\n",
            "Unpacking objects: 100% (48/48), done.\n"
          ],
          "name": "stdout"
        }
      ]
    },
    {
      "cell_type": "code",
      "metadata": {
        "id": "l2rqe-JNq3eK"
      },
      "source": [
        "import os\r\n",
        "os.chdir(\"News-Classification\")"
      ],
      "execution_count": 2,
      "outputs": []
    },
    {
      "cell_type": "code",
      "metadata": {
        "id": "2ubSBOJ7zNvK"
      },
      "source": [
        "!sh setup_folders_and_data.sh"
      ],
      "execution_count": null,
      "outputs": []
    },
    {
      "cell_type": "code",
      "metadata": {
        "id": "iCFF3H2wpEQ1"
      },
      "source": [
        "# !python train.py"
      ],
      "execution_count": null,
      "outputs": []
    },
    {
      "cell_type": "code",
      "metadata": {
        "colab": {
          "base_uri": "https://localhost:8080/"
        },
        "id": "k0fRwpGZsFtb",
        "outputId": "7b0f7072-b0ac-488d-c20f-97774b416e78"
      },
      "source": [
        "!python test.py"
      ],
      "execution_count": 5,
      "outputs": [
        {
          "output_type": "stream",
          "text": [
            "2021-02-22 08:41:52.639738: I tensorflow/stream_executor/platform/default/dso_loader.cc:49] Successfully opened dynamic library libcudart.so.10.1\n",
            "2021-02-22 08:41:54.807802: I tensorflow/compiler/jit/xla_cpu_device.cc:41] Not creating XLA devices, tf_xla_enable_xla_devices not set\n",
            "2021-02-22 08:41:54.808808: I tensorflow/stream_executor/platform/default/dso_loader.cc:49] Successfully opened dynamic library libcuda.so.1\n",
            "2021-02-22 08:41:54.819088: E tensorflow/stream_executor/cuda/cuda_driver.cc:328] failed call to cuInit: CUDA_ERROR_NO_DEVICE: no CUDA-capable device is detected\n",
            "2021-02-22 08:41:54.819144: I tensorflow/stream_executor/cuda/cuda_diagnostics.cc:156] kernel driver does not appear to be running on this host (3178919f4125): /proc/driver/nvidia/version does not exist\n",
            "2021-02-22 08:41:54.819666: I tensorflow/compiler/jit/xla_gpu_device.cc:99] Not creating XLA devices, tf_xla_enable_xla_devices not set\n",
            "2021-02-22 08:42:03.685014: I tensorflow/compiler/mlir/mlir_graph_optimization_pass.cc:116] None of the MLIR optimization passes are enabled (registered 2)\n",
            "2021-02-22 08:42:03.698679: I tensorflow/core/platform/profile_utils/cpu_utils.cc:112] CPU Frequency: 2200200000 Hz\n",
            "****************************************************************************************************\n",
            "Loss:      0.5203806161880493\n",
            "Accuracy:  0.8645477294921875\n",
            "****************************************************************************************************\n"
          ],
          "name": "stdout"
        }
      ]
    },
    {
      "cell_type": "code",
      "metadata": {
        "id": "SMnvjfErymPa"
      },
      "source": [
        ""
      ],
      "execution_count": null,
      "outputs": []
    }
  ]
}